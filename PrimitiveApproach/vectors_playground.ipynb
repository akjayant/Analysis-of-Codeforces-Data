{
 "cells": [
  {
   "cell_type": "code",
   "execution_count": 87,
   "metadata": {},
   "outputs": [
    {
     "data": {
      "text/html": [
       "<div>\n",
       "<style scoped>\n",
       "    .dataframe tbody tr th:only-of-type {\n",
       "        vertical-align: middle;\n",
       "    }\n",
       "\n",
       "    .dataframe tbody tr th {\n",
       "        vertical-align: top;\n",
       "    }\n",
       "\n",
       "    .dataframe thead th {\n",
       "        text-align: right;\n",
       "    }\n",
       "</style>\n",
       "<table border=\"1\" class=\"dataframe\">\n",
       "  <thead>\n",
       "    <tr style=\"text-align: right;\">\n",
       "      <th></th>\n",
       "      <th>ParticipantID</th>\n",
       "      <th>Color</th>\n",
       "      <th>Rank</th>\n",
       "      <th>Country</th>\n",
       "      <th>ProblemA_id</th>\n",
       "      <th>ProblemA_memory</th>\n",
       "      <th>ProblemA_time</th>\n",
       "      <th>ProblemA_language</th>\n",
       "      <th>ProblemB_id</th>\n",
       "      <th>ProblemB_memory</th>\n",
       "      <th>...</th>\n",
       "      <th>ProblemE_time</th>\n",
       "      <th>ProblemE_language</th>\n",
       "      <th>ProblemF_id</th>\n",
       "      <th>ProblemF_memory</th>\n",
       "      <th>ProblemF_time</th>\n",
       "      <th>ProblemF_language</th>\n",
       "      <th>ProblemG_id</th>\n",
       "      <th>ProblemG_memory</th>\n",
       "      <th>ProblemG_time</th>\n",
       "      <th>ProblemG_language</th>\n",
       "    </tr>\n",
       "  </thead>\n",
       "  <tbody>\n",
       "    <tr>\n",
       "      <th>0</th>\n",
       "      <td>28934535</td>\n",
       "      <td>blue</td>\n",
       "      <td>1</td>\n",
       "      <td>-</td>\n",
       "      <td>62466123</td>\n",
       "      <td>8</td>\n",
       "      <td>31</td>\n",
       "      <td>GNU C++11</td>\n",
       "      <td>62467959</td>\n",
       "      <td>104</td>\n",
       "      <td>...</td>\n",
       "      <td>249</td>\n",
       "      <td>GNU C++11</td>\n",
       "      <td>62476907</td>\n",
       "      <td>10804</td>\n",
       "      <td>46</td>\n",
       "      <td>GNU C++11</td>\n",
       "      <td>62480107</td>\n",
       "      <td>3924</td>\n",
       "      <td>420</td>\n",
       "      <td>GNU C++11</td>\n",
       "    </tr>\n",
       "    <tr>\n",
       "      <th>1</th>\n",
       "      <td>28925463</td>\n",
       "      <td>violet</td>\n",
       "      <td>2</td>\n",
       "      <td>China</td>\n",
       "      <td>62464793</td>\n",
       "      <td>16</td>\n",
       "      <td>30</td>\n",
       "      <td>GNU C++14</td>\n",
       "      <td>62468158</td>\n",
       "      <td>16</td>\n",
       "      <td>...</td>\n",
       "      <td>62</td>\n",
       "      <td>GNU C++14</td>\n",
       "      <td>62486766</td>\n",
       "      <td>3928</td>\n",
       "      <td>46</td>\n",
       "      <td>GNU C++14</td>\n",
       "      <td>62491796</td>\n",
       "      <td>3928</td>\n",
       "      <td>358</td>\n",
       "      <td>GNU C++14</td>\n",
       "    </tr>\n",
       "    <tr>\n",
       "      <th>2</th>\n",
       "      <td>28926600</td>\n",
       "      <td>violet</td>\n",
       "      <td>3</td>\n",
       "      <td>China</td>\n",
       "      <td>62464086</td>\n",
       "      <td>8</td>\n",
       "      <td>31</td>\n",
       "      <td>GNU C++11</td>\n",
       "      <td>62464148</td>\n",
       "      <td>828</td>\n",
       "      <td>...</td>\n",
       "      <td>31</td>\n",
       "      <td>GNU C++11</td>\n",
       "      <td>62497660</td>\n",
       "      <td>408</td>\n",
       "      <td>31</td>\n",
       "      <td>GNU C++11</td>\n",
       "      <td>62483655</td>\n",
       "      <td>4728</td>\n",
       "      <td>405</td>\n",
       "      <td>GNU C++11</td>\n",
       "    </tr>\n",
       "    <tr>\n",
       "      <th>3</th>\n",
       "      <td>28933479</td>\n",
       "      <td>blue</td>\n",
       "      <td>4</td>\n",
       "      <td>-</td>\n",
       "      <td>62466602</td>\n",
       "      <td>8</td>\n",
       "      <td>31</td>\n",
       "      <td>GNU C++11</td>\n",
       "      <td>62469867</td>\n",
       "      <td>12</td>\n",
       "      <td>...</td>\n",
       "      <td>498</td>\n",
       "      <td>GNU C++11</td>\n",
       "      <td>62497231</td>\n",
       "      <td>3148</td>\n",
       "      <td>46</td>\n",
       "      <td>GNU C++17</td>\n",
       "      <td>62495208</td>\n",
       "      <td>15664</td>\n",
       "      <td>967</td>\n",
       "      <td>GNU C++11</td>\n",
       "    </tr>\n",
       "    <tr>\n",
       "      <th>4</th>\n",
       "      <td>28935245</td>\n",
       "      <td>violet</td>\n",
       "      <td>5</td>\n",
       "      <td>China</td>\n",
       "      <td>62465923</td>\n",
       "      <td>12</td>\n",
       "      <td>31</td>\n",
       "      <td>GNU C++11</td>\n",
       "      <td>62471265</td>\n",
       "      <td>16</td>\n",
       "      <td>...</td>\n",
       "      <td>187</td>\n",
       "      <td>GNU C++11</td>\n",
       "      <td>62492999</td>\n",
       "      <td>796</td>\n",
       "      <td>46</td>\n",
       "      <td>GNU C++11</td>\n",
       "      <td>62499859</td>\n",
       "      <td>11756</td>\n",
       "      <td>109</td>\n",
       "      <td>GNU C++11</td>\n",
       "    </tr>\n",
       "  </tbody>\n",
       "</table>\n",
       "<p>5 rows × 32 columns</p>\n",
       "</div>"
      ],
      "text/plain": [
       "   ParticipantID   Color  Rank Country ProblemA_id ProblemA_memory  \\\n",
       "0       28934535    blue     1       -    62466123               8   \n",
       "1       28925463  violet     2   China    62464793              16   \n",
       "2       28926600  violet     3   China    62464086               8   \n",
       "3       28933479    blue     4       -    62466602               8   \n",
       "4       28935245  violet     5   China    62465923              12   \n",
       "\n",
       "  ProblemA_time ProblemA_language ProblemB_id ProblemB_memory  ...  \\\n",
       "0            31         GNU C++11    62467959             104  ...   \n",
       "1            30         GNU C++14    62468158              16  ...   \n",
       "2            31         GNU C++11    62464148             828  ...   \n",
       "3            31         GNU C++11    62469867              12  ...   \n",
       "4            31         GNU C++11    62471265              16  ...   \n",
       "\n",
       "  ProblemE_time ProblemE_language ProblemF_id ProblemF_memory ProblemF_time  \\\n",
       "0           249         GNU C++11    62476907           10804            46   \n",
       "1            62         GNU C++14    62486766            3928            46   \n",
       "2            31         GNU C++11    62497660             408            31   \n",
       "3           498         GNU C++11    62497231            3148            46   \n",
       "4           187         GNU C++11    62492999             796            46   \n",
       "\n",
       "  ProblemF_language ProblemG_id ProblemG_memory ProblemG_time  \\\n",
       "0         GNU C++11    62480107            3924           420   \n",
       "1         GNU C++14    62491796            3928           358   \n",
       "2         GNU C++11    62483655            4728           405   \n",
       "3         GNU C++17    62495208           15664           967   \n",
       "4         GNU C++11    62499859           11756           109   \n",
       "\n",
       "  ProblemG_language  \n",
       "0         GNU C++11  \n",
       "1         GNU C++14  \n",
       "2         GNU C++11  \n",
       "3         GNU C++11  \n",
       "4         GNU C++11  \n",
       "\n",
       "[5 rows x 32 columns]"
      ]
     },
     "execution_count": 87,
     "metadata": {},
     "output_type": "execute_result"
    }
   ],
   "source": [
    "#load model\n",
    "import gensim.models as g\n",
    "model_path=\"../doc2vec/model100.bin\"\n",
    "model = g.Doc2Vec.load(model_path)\n",
    "import pandas as pd\n",
    "data_path='../Data/Contest1244'\n",
    "summary_stats=pd.read_csv(data_path+'/standings_statistics.csv',sep='\\t',skiprows=1,header=None,names=['ParticipantID','Color','Rank','Country','ProblemA_id','ProblemA_memory','ProblemA_time','ProblemA_language','ProblemB_id','ProblemB_memory','ProblemB_time','ProblemB_language','ProblemC_id','ProblemC_memory','ProblemC_time','ProblemC_language','ProblemD_id','ProblemD_memory','ProblemD_time','ProblemD_language','ProblemE_id','ProblemE_memory','ProblemE_time','ProblemE_language','ProblemF_id','ProblemF_memory','ProblemF_time','ProblemF_language','ProblemG_id','ProblemG_memory','ProblemG_time','ProblemG_language'])\n",
    "summary_stats.dropna(subset=['ProblemA_id','ProblemB_id', 'ProblemC_id'],inplace=True)\n",
    "summary_stats.head()"
   ]
  },
  {
   "cell_type": "code",
   "execution_count": 88,
   "metadata": {},
   "outputs": [
    {
     "data": {
      "text/html": [
       "<div>\n",
       "<style scoped>\n",
       "    .dataframe tbody tr th:only-of-type {\n",
       "        vertical-align: middle;\n",
       "    }\n",
       "\n",
       "    .dataframe tbody tr th {\n",
       "        vertical-align: top;\n",
       "    }\n",
       "\n",
       "    .dataframe thead th {\n",
       "        text-align: right;\n",
       "    }\n",
       "</style>\n",
       "<table border=\"1\" class=\"dataframe\">\n",
       "  <thead>\n",
       "    <tr style=\"text-align: right;\">\n",
       "      <th></th>\n",
       "      <th>ParticipantID</th>\n",
       "      <th>ProblemA_id</th>\n",
       "      <th>ProblemC_id</th>\n",
       "      <th>ProblemB_id</th>\n",
       "    </tr>\n",
       "  </thead>\n",
       "  <tbody>\n",
       "    <tr>\n",
       "      <th>0</th>\n",
       "      <td>28934535</td>\n",
       "      <td>62466123</td>\n",
       "      <td>62471680</td>\n",
       "      <td>62467959</td>\n",
       "    </tr>\n",
       "    <tr>\n",
       "      <th>1</th>\n",
       "      <td>28925463</td>\n",
       "      <td>62464793</td>\n",
       "      <td>62473970</td>\n",
       "      <td>62468158</td>\n",
       "    </tr>\n",
       "    <tr>\n",
       "      <th>2</th>\n",
       "      <td>28926600</td>\n",
       "      <td>62464086</td>\n",
       "      <td>62478090</td>\n",
       "      <td>62464148</td>\n",
       "    </tr>\n",
       "    <tr>\n",
       "      <th>3</th>\n",
       "      <td>28933479</td>\n",
       "      <td>62466602</td>\n",
       "      <td>62477877</td>\n",
       "      <td>62469867</td>\n",
       "    </tr>\n",
       "    <tr>\n",
       "      <th>4</th>\n",
       "      <td>28935245</td>\n",
       "      <td>62465923</td>\n",
       "      <td>62474334</td>\n",
       "      <td>62471265</td>\n",
       "    </tr>\n",
       "  </tbody>\n",
       "</table>\n",
       "</div>"
      ],
      "text/plain": [
       "   ParticipantID ProblemA_id ProblemC_id ProblemB_id\n",
       "0       28934535    62466123    62471680    62467959\n",
       "1       28925463    62464793    62473970    62468158\n",
       "2       28926600    62464086    62478090    62464148\n",
       "3       28933479    62466602    62477877    62469867\n",
       "4       28935245    62465923    62474334    62471265"
      ]
     },
     "execution_count": 88,
     "metadata": {},
     "output_type": "execute_result"
    }
   ],
   "source": [
    "translation_summary=summary_stats[['ParticipantID','ProblemA_id','ProblemC_id','ProblemB_id']]\n",
    "translation_summary.head()"
   ]
  },
  {
   "cell_type": "code",
   "execution_count": 89,
   "metadata": {},
   "outputs": [
    {
     "name": "stderr",
     "output_type": "stream",
     "text": [
      "/Users/Shikhar/Desktop/Studies/DataAnalytics/Assignment1/python_env/lib/python3.6/site-packages/ipykernel_launcher.py:4: SettingWithCopyWarning: \n",
      "A value is trying to be set on a copy of a slice from a DataFrame.\n",
      "Try using .loc[row_indexer,col_indexer] = value instead\n",
      "\n",
      "See the caveats in the documentation: http://pandas.pydata.org/pandas-docs/stable/user_guide/indexing.html#returning-a-view-versus-a-copy\n",
      "  after removing the cwd from sys.path.\n",
      "/Users/Shikhar/Desktop/Studies/DataAnalytics/Assignment1/python_env/lib/python3.6/site-packages/ipykernel_launcher.py:5: SettingWithCopyWarning: \n",
      "A value is trying to be set on a copy of a slice from a DataFrame.\n",
      "Try using .loc[row_indexer,col_indexer] = value instead\n",
      "\n",
      "See the caveats in the documentation: http://pandas.pydata.org/pandas-docs/stable/user_guide/indexing.html#returning-a-view-versus-a-copy\n",
      "  \"\"\"\n",
      "/Users/Shikhar/Desktop/Studies/DataAnalytics/Assignment1/python_env/lib/python3.6/site-packages/ipykernel_launcher.py:6: SettingWithCopyWarning: \n",
      "A value is trying to be set on a copy of a slice from a DataFrame.\n",
      "Try using .loc[row_indexer,col_indexer] = value instead\n",
      "\n",
      "See the caveats in the documentation: http://pandas.pydata.org/pandas-docs/stable/user_guide/indexing.html#returning-a-view-versus-a-copy\n",
      "  \n"
     ]
    }
   ],
   "source": [
    "def generate_name(row,column):\n",
    "    return str(row['ParticipantID'])+'_'+row[column]\n",
    "\n",
    "translation_summary['A_name']=translation_summary.apply (lambda row: generate_name(row,'ProblemA_id'), axis=1)\n",
    "translation_summary['B_name']=translation_summary.apply (lambda row: generate_name(row,'ProblemB_id'), axis=1)\n",
    "translation_summary['C_name']=translation_summary.apply (lambda row: generate_name(row,'ProblemC_id'), axis=1)"
   ]
  },
  {
   "cell_type": "code",
   "execution_count": 90,
   "metadata": {},
   "outputs": [],
   "source": [
    "translation_summary=translation_summary.dropna().sample(n=500)"
   ]
  },
  {
   "cell_type": "code",
   "execution_count": 91,
   "metadata": {},
   "outputs": [],
   "source": [
    "def get_vector(model,text,start_alpha=0.01,infer_epoch=1000):\n",
    "    return model.infer_vector(text, alpha=start_alpha, steps=infer_epoch)"
   ]
  },
  {
   "cell_type": "code",
   "execution_count": 92,
   "metadata": {},
   "outputs": [],
   "source": [
    "import numpy as np\n",
    "import os\n",
    "contest='Contest1244'\n",
    "def get_content(fname):\n",
    "    data_path='../Data/'+(contest)\n",
    "    f=open(os.path.join(data_path,'all_xml_simplified/'+fname+'.xml'),'r')\n",
    "    txt=f.read()\n",
    "    f.close()\n",
    "    return txt.strip().split()\n",
    "\n",
    "def generate_vec(row,problem):\n",
    "    try:\n",
    "        name=row[problem]\n",
    "        content=get_content(name)\n",
    "        vec=get_vector(model,content)\n",
    "        return vec\n",
    "    except:\n",
    "        return None"
   ]
  },
  {
   "cell_type": "code",
   "execution_count": 93,
   "metadata": {},
   "outputs": [
    {
     "name": "stdout",
     "output_type": "stream",
     "text": [
      "A done\n"
     ]
    }
   ],
   "source": [
    "A_vecs=translation_summary.apply(lambda row: generate_vec(row,'A_name'), axis=1)\n",
    "print('A done')\n",
    "B_vecs=translation_summary.apply(lambda row: generate_vec(row,'B_name'), axis=1)\n",
    "#C_vecs=translation_summary.apply(lambda row: generate_vec(row,'C_name'), axis=1)\n",
    "#D_vecs=translation_summary.apply(lambda row: generate_vec(row,'D_name'), axis=1)\n"
   ]
  },
  {
   "cell_type": "code",
   "execution_count": 8,
   "metadata": {},
   "outputs": [],
   "source": [
    "import os\n",
    "\n",
    "f=open(os.path.join(data_path,'all_xml_simplified/28935245_62465923.xml'),'r')\n",
    "txt_a=f.read()\n",
    "g=open(os.path.join(data_path,'all_xml_simplified/28935245_62474334.xml'),'r')\n",
    "txt_c=g.read()\n",
    "h=open(os.path.join(data_path,'all_xml_simplified/28925463_62464793.xml'),'r')\n",
    "xtx_a=h.read()\n",
    "i=open(os.path.join(data_path,'all_xml_simplified/28925463_62473970.xml'),'r')\n",
    "xtx_c=i.read()"
   ]
  },
  {
   "cell_type": "code",
   "execution_count": 9,
   "metadata": {},
   "outputs": [
    {
     "data": {
      "text/plain": [
       "'pragma directive name name name name name finished pragma directive name name name name name finished include directive file finished define directive macro name finished value finished define directive macro name parameter_list parameter type name finished finished parameter type name finished finished parameter type name finished finished finished finished value finished define directive macro name parameter_list parameter type name finished finished parameter type name finished finished parameter type name finished finished finished finished value finished using namespace name finished finished typedef type name name name finished name finished typedef type name name argument_list type generic argument expr name finished finished argument expr name finished finished finished finished finished name finished typedef type name name finished name finished function template parameter_list parameter type name finished name finished finished finished specifier type name finished name parameter_list parameter decl type name modifier finished name finished finished finished block expr_stmt expr name operator literal type number finished finished decl_stmt decl type name finished name init expr literal type number finished finished finished finished decl_stmt decl type name finished name init expr call name argument_list finished finished finished finished finished while condition expr name name argument_list type generic argument expr literal type char operator name finished finished finished finished literal type char finished finished block if condition expr name operator literal type char finished finished then block type pseudo expr_stmt expr name operator operator literal type number finished finished finished finished finished expr_stmt expr name operator call name argument_list finished finished finished finished finished while condition expr name operator literal type char operator name operator literal type char finished finished block expr_stmt expr name operator operator name operator literal type number operator operator operator name operator literal type number operator operator operator name operator literal type number operator finished finished expr_stmt expr name operator call name argument_list finished finished finished finished finished expr_stmt expr name operator name finished finished finished finished function template parameter_list parameter type name finished name finished finished finished type name finished name parameter_list parameter decl type name finished name finished finished finished block if condition expr name operator literal type number finished finished then block type pseudo expr_stmt expr call name argument_list argument expr literal type char finished finished finished finished finished operator expr name operator operator name finished finished finished finished finished if condition expr name operator literal type number finished finished then block type pseudo expr_stmt expr call name argument_list argument expr name operator literal type number finished finished finished finished finished finished finished finished else block type pseudo expr_stmt expr call name argument_list argument expr name operator literal type number finished finished finished finished finished operator expr call name argument_list argument expr name operator literal type number operator literal type number finished finished finished finished finished finished finished finished finished finished finished function template parameter_list parameter type name finished name finished finished finished type name finished name parameter_list parameter decl type name finished name finished finished parameter decl type name finished name finished finished finished block expr_stmt expr call name argument_list argument expr name finished finished finished finished finished finished expr_stmt expr call name argument_list argument expr name finished finished finished finished finished finished finished finished decl_stmt decl type name finished name finished decl type ref prev name finished decl type ref prev name finished decl type ref prev name finished decl type ref prev name finished decl type ref prev name finished finished function type name finished name parameter_list block expr_stmt expr call name argument_list argument expr name finished finished finished finished finished finished while condition expr name operator finished finished block expr_stmt expr call name argument_list argument expr name finished finished finished finished finished finished expr_stmt expr call name argument_list argument expr name finished finished finished finished finished finished expr_stmt expr call name argument_list argument expr name finished finished finished finished finished finished expr_stmt expr call name argument_list argument expr name finished finished finished finished finished finished expr_stmt expr call name argument_list argument expr name finished finished finished finished finished finished if condition expr name operator operator name operator literal type number operator operator name operator literal type number operator operator name operator literal type number operator operator name operator literal type number finished finished then block type pseudo expr_stmt expr call name argument_list argument expr operator name operator literal type number operator operator name operator literal type number finished finished argument expr literal type char finished finished finished finished finished operator expr call name argument_list argument expr operator name operator literal type number operator operator name operator literal type number finished finished argument expr literal type char finished finished finished finished finished finished finished finished else block type pseudo expr_stmt expr call name argument_list argument expr operator literal type number finished finished argument expr literal type char finished finished finished finished finished finished finished finished finished finished finished return expr literal type number finished finished finished finished finished \\n'"
      ]
     },
     "execution_count": 9,
     "metadata": {},
     "output_type": "execute_result"
    }
   ],
   "source": [
    "txt_a"
   ]
  },
  {
   "cell_type": "code",
   "execution_count": 10,
   "metadata": {},
   "outputs": [
    {
     "data": {
      "text/plain": [
       "'pragma directive name name name name name finished pragma directive name name name name name finished include directive file finished define directive macro name finished value finished define directive macro name parameter_list parameter type name finished finished parameter type name finished finished parameter type name finished finished finished finished value finished define directive macro name parameter_list parameter type name finished finished parameter type name finished finished parameter type name finished finished finished finished value finished using namespace name finished finished typedef type name name name finished name finished typedef type name name argument_list type generic argument expr name finished finished argument expr name finished finished finished finished finished name finished typedef type name name finished name finished function template parameter_list parameter type name finished name finished finished finished specifier type name finished name parameter_list parameter decl type name modifier finished name finished finished finished block expr_stmt expr name operator literal type number finished finished decl_stmt decl type name finished name init expr literal type number finished finished finished finished decl_stmt decl type name finished name init expr call name argument_list finished finished finished finished finished while condition expr name name argument_list type generic argument expr literal type char operator name finished finished finished finished literal type char finished finished block if condition expr name operator literal type char finished finished then block type pseudo expr_stmt expr name operator operator literal type number finished finished finished finished finished expr_stmt expr name operator call name argument_list finished finished finished finished finished while condition expr name operator literal type char operator name operator literal type char finished finished block expr_stmt expr name operator operator name operator literal type number operator operator operator name operator literal type number operator operator operator name operator literal type number operator finished finished expr_stmt expr name operator call name argument_list finished finished finished finished finished expr_stmt expr name operator name finished finished finished finished function template parameter_list parameter type name finished name finished finished finished type name finished name parameter_list parameter decl type name finished name finished finished finished block if condition expr name operator literal type number finished finished then block type pseudo expr_stmt expr call name argument_list argument expr literal type char finished finished finished finished finished operator expr name operator operator name finished finished finished finished finished if condition expr name operator literal type number finished finished then block type pseudo expr_stmt expr call name argument_list argument expr name operator literal type number finished finished finished finished finished finished finished finished else block type pseudo expr_stmt expr call name argument_list argument expr name operator literal type number finished finished finished finished finished operator expr call name argument_list argument expr name operator literal type number operator literal type number finished finished finished finished finished finished finished finished finished finished finished function template parameter_list parameter type name finished name finished finished finished type name finished name parameter_list parameter decl type name finished name finished finished parameter decl type name finished name finished finished finished block expr_stmt expr call name argument_list argument expr name finished finished finished finished finished finished expr_stmt expr call name argument_list argument expr name finished finished finished finished finished finished finished finished decl_stmt decl type name finished name finished decl type ref prev name finished decl type ref prev name finished decl type ref prev name finished finished function type name finished name parameter_list block expr_stmt expr call name argument_list argument expr name finished finished finished finished finished finished expr_stmt expr call name argument_list argument expr name finished finished finished finished finished finished expr_stmt expr call name argument_list argument expr name finished finished finished finished finished finished expr_stmt expr call name argument_list argument expr name finished finished finished finished finished finished for control init decl type specifier name finished name init expr literal type number finished finished finished finished condition expr name operator call name argument_list argument expr literal type number finished finished argument expr name finished finished finished finished finished finished incr expr name operator finished finished finished block decl_stmt decl type name finished name init expr name operator name operator name finished finished finished finished if condition expr name operator literal type number finished finished then block type pseudo break finished finished finished if condition expr name operator name operator literal type number operator name operator name operator name operator name operator literal type number finished finished then block expr_stmt expr call name argument_list argument expr name operator name finished finished argument expr literal type char finished finished finished finished finished finished expr_stmt expr call name argument_list argument expr name finished finished argument expr literal type char finished finished finished finished finished finished expr_stmt expr call name argument_list argument expr name operator name operator name operator name finished finished argument expr literal type char finished finished finished finished finished finished return expr literal type number finished finished finished finished finished finished finished expr_stmt expr call name argument_list argument expr operator literal type number finished finished argument expr literal type char finished finished finished finished finished finished return expr literal type number finished finished finished finished finished \\n'"
      ]
     },
     "execution_count": 10,
     "metadata": {},
     "output_type": "execute_result"
    }
   ],
   "source": [
    "txt_c"
   ]
  },
  {
   "cell_type": "code",
   "execution_count": 11,
   "metadata": {},
   "outputs": [
    {
     "data": {
      "text/plain": [
       "'include directive file finished using namespace name finished finished function type name finished name parameter_list block decl_stmt decl type name finished name finished decl type ref prev name finished decl type ref prev name finished decl type ref prev name finished decl type ref prev name finished decl type ref prev name finished finished expr_stmt expr name operator name finished finished while condition expr name operator finished finished block expr_stmt expr name operator name operator name operator name operator name operator name finished finished decl_stmt decl type name finished name init expr ternary condition expr name operator name finished finished then expr name operator name operator literal type number finished finished else expr name operator name finished finished finished finished finished finished finished decl_stmt decl type name finished name init expr ternary condition expr name operator name finished finished then expr name operator name operator literal type number finished finished else expr name operator name finished finished finished finished finished finished finished if condition expr name operator name operator name finished finished then block type pseudo expr_stmt expr call name argument_list argument expr literal type string finished finished finished finished finished finished finished finished else block type pseudo expr_stmt expr call name argument_list argument expr literal type string finished finished argument expr name finished finished argument expr name finished finished finished finished finished finished finished finished finished finished finished return expr literal type number finished finished finished finished finished \\n'"
      ]
     },
     "execution_count": 11,
     "metadata": {},
     "output_type": "execute_result"
    }
   ],
   "source": [
    "xtx_a"
   ]
  },
  {
   "cell_type": "code",
   "execution_count": 12,
   "metadata": {},
   "outputs": [
    {
     "data": {
      "text/plain": [
       "'include directive file finished using namespace name finished finished function type name finished name parameter_list block decl_stmt decl type name name finished name finished decl type ref prev name finished decl type ref prev name finished decl type ref prev name finished finished expr_stmt expr name operator name operator name operator name operator name finished finished for control init decl type name name finished name init expr literal type number finished finished finished finished condition expr name operator name finished finished incr expr name operator finished finished finished block if condition expr operator name operator name operator name operator operator name finished finished then block type pseudo continue finished finished finished decl_stmt decl type name name finished name init expr operator name operator name operator name operator operator name finished finished finished decl type ref prev name init expr name operator name operator name finished finished finished finished if condition expr name operator literal type number operator name operator literal type number finished finished then block type pseudo continue finished finished finished expr_stmt expr call name argument_list argument expr literal type string finished finished argument expr name finished finished argument expr name finished finished argument expr name finished finished finished finished finished finished return expr literal type number finished finished finished finished expr_stmt expr call name argument_list argument expr literal type string finished finished finished finished finished finished return expr literal type number finished finished finished finished finished \\n'"
      ]
     },
     "execution_count": 12,
     "metadata": {},
     "output_type": "execute_result"
    }
   ],
   "source": [
    "xtx_c"
   ]
  },
  {
   "cell_type": "code",
   "execution_count": 13,
   "metadata": {},
   "outputs": [],
   "source": [
    "X_A=get_vector(model,txt_a.strip().split())\n",
    "X_C=get_vector(model,txt_c.strip().split())\n",
    "Y_A=get_vector(model,xtx_a.strip().split())\n",
    "Y_C=get_vector(model,xtx_c.strip().split())"
   ]
  },
  {
   "cell_type": "code",
   "execution_count": 14,
   "metadata": {},
   "outputs": [
    {
     "data": {
      "text/plain": [
       "(100,)"
      ]
     },
     "execution_count": 14,
     "metadata": {},
     "output_type": "execute_result"
    }
   ],
   "source": [
    "X_A.shape"
   ]
  },
  {
   "cell_type": "code",
   "execution_count": 16,
   "metadata": {},
   "outputs": [
    {
     "name": "stdout",
     "output_type": "stream",
     "text": [
      "0.24808157980442047\n",
      "0.6255837678909302\n"
     ]
    }
   ],
   "source": [
    "from scipy import spatial\n",
    "result = 1 - spatial.distance.cosine(X_A-X_C+Y_C, X_A)\n",
    "result2=1 - spatial.distance.cosine(X_A-X_C+Y_C, Y_A)\n",
    "print(result)\n",
    "print(result2)"
   ]
  },
  {
   "cell_type": "code",
   "execution_count": 95,
   "metadata": {},
   "outputs": [
    {
     "data": {
      "text/plain": [
       "0.9094702005386353"
      ]
     },
     "execution_count": 95,
     "metadata": {},
     "output_type": "execute_result"
    }
   ],
   "source": [
    "1 - spatial.distance.cosine(X_A, X_C)"
   ]
  },
  {
   "cell_type": "code",
   "execution_count": 96,
   "metadata": {},
   "outputs": [
    {
     "data": {
      "text/plain": [
       "0.1536000370979309"
      ]
     },
     "execution_count": 96,
     "metadata": {},
     "output_type": "execute_result"
    }
   ],
   "source": [
    "1 - spatial.distance.cosine(X_A, Y_C)"
   ]
  },
  {
   "cell_type": "code",
   "execution_count": 97,
   "metadata": {},
   "outputs": [
    {
     "data": {
      "text/plain": [
       "0.13897062838077545"
      ]
     },
     "execution_count": 97,
     "metadata": {},
     "output_type": "execute_result"
    }
   ],
   "source": [
    "1 - spatial.distance.cosine(Y_A, X_C)"
   ]
  },
  {
   "cell_type": "code",
   "execution_count": 98,
   "metadata": {},
   "outputs": [
    {
     "data": {
      "text/plain": [
       "0.6145637035369873"
      ]
     },
     "execution_count": 98,
     "metadata": {},
     "output_type": "execute_result"
    }
   ],
   "source": [
    "1 - spatial.distance.cosine(Y_A, Y_C)"
   ]
  },
  {
   "cell_type": "code",
   "execution_count": 112,
   "metadata": {},
   "outputs": [
    {
     "data": {
      "text/plain": [
       "(1000, 7)"
      ]
     },
     "execution_count": 112,
     "metadata": {},
     "output_type": "execute_result"
    }
   ],
   "source": [
    "translation_summary.shape"
   ]
  },
  {
   "cell_type": "code",
   "execution_count": 129,
   "metadata": {},
   "outputs": [
    {
     "data": {
      "text/plain": [
       "(1000, 31)"
      ]
     },
     "execution_count": 129,
     "metadata": {},
     "output_type": "execute_result"
    }
   ],
   "source": [
    "summary_stats.shape"
   ]
  },
  {
   "cell_type": "code",
   "execution_count": 102,
   "metadata": {},
   "outputs": [],
   "source": [
    "translation_summary.to_csv('translation_vec.csv',index=False)"
   ]
  },
  {
   "cell_type": "code",
   "execution_count": 133,
   "metadata": {},
   "outputs": [
    {
     "data": {
      "text/html": [
       "<div>\n",
       "<style scoped>\n",
       "    .dataframe tbody tr th:only-of-type {\n",
       "        vertical-align: middle;\n",
       "    }\n",
       "\n",
       "    .dataframe tbody tr th {\n",
       "        vertical-align: top;\n",
       "    }\n",
       "\n",
       "    .dataframe thead th {\n",
       "        text-align: right;\n",
       "    }\n",
       "</style>\n",
       "<table border=\"1\" class=\"dataframe\">\n",
       "  <thead>\n",
       "    <tr style=\"text-align: right;\">\n",
       "      <th></th>\n",
       "      <th>ParticipantID</th>\n",
       "      <th>ProblemA_id</th>\n",
       "      <th>ProblemC_id</th>\n",
       "      <th>ProblemB_id</th>\n",
       "      <th>A_name</th>\n",
       "      <th>B_name</th>\n",
       "      <th>C_name</th>\n",
       "      <th>A_vec</th>\n",
       "      <th>B_vec</th>\n",
       "      <th>C_vec</th>\n",
       "      <th>D_vec</th>\n",
       "    </tr>\n",
       "  </thead>\n",
       "  <tbody>\n",
       "    <tr>\n",
       "      <th>507</th>\n",
       "      <td>28929904</td>\n",
       "      <td>62469085</td>\n",
       "      <td>NO</td>\n",
       "      <td>62477223</td>\n",
       "      <td>28929904_62469085</td>\n",
       "      <td>28929904_62477223</td>\n",
       "      <td>28929904_NO</td>\n",
       "      <td>[-0.08125514, -0.37661126, 0.029546322, 0.1859...</td>\n",
       "      <td>[0.1261962, -0.28840122, -0.013485637, 0.15798...</td>\n",
       "      <td>None</td>\n",
       "      <td>None</td>\n",
       "    </tr>\n",
       "    <tr>\n",
       "      <th>818</th>\n",
       "      <td>28930063</td>\n",
       "      <td>62465870</td>\n",
       "      <td>-</td>\n",
       "      <td>62476063</td>\n",
       "      <td>28930063_62465870</td>\n",
       "      <td>28930063_62476063</td>\n",
       "      <td>28930063_-</td>\n",
       "      <td>[-0.08194714, -0.24887857, 0.57016236, 0.02721...</td>\n",
       "      <td>[0.11434873, -0.3891947, 0.6832665, -0.2191865...</td>\n",
       "      <td>None</td>\n",
       "      <td>None</td>\n",
       "    </tr>\n",
       "    <tr>\n",
       "      <th>452</th>\n",
       "      <td>28913845</td>\n",
       "      <td>62465017</td>\n",
       "      <td>62477000</td>\n",
       "      <td>62470217</td>\n",
       "      <td>28913845_62465017</td>\n",
       "      <td>28913845_62470217</td>\n",
       "      <td>28913845_62477000</td>\n",
       "      <td>[-0.1267573, -0.38610095, 0.073323935, 0.16539...</td>\n",
       "      <td>[-0.09175491, -0.20303325, 0.08635165, 0.26552...</td>\n",
       "      <td>[-0.22277893, -0.3875344, 0.23395582, 0.207285...</td>\n",
       "      <td>None</td>\n",
       "    </tr>\n",
       "    <tr>\n",
       "      <th>368</th>\n",
       "      <td>28895208</td>\n",
       "      <td>62467601</td>\n",
       "      <td>NO</td>\n",
       "      <td>62469511</td>\n",
       "      <td>28895208_62467601</td>\n",
       "      <td>28895208_62469511</td>\n",
       "      <td>28895208_NO</td>\n",
       "      <td>[0.021988025, -0.24203631, 0.076747015, 0.0115...</td>\n",
       "      <td>[0.053717237, -0.0008431146, 0.053021137, 0.05...</td>\n",
       "      <td>None</td>\n",
       "      <td>None</td>\n",
       "    </tr>\n",
       "    <tr>\n",
       "      <th>242</th>\n",
       "      <td>28907862</td>\n",
       "      <td>62475646</td>\n",
       "      <td>NO</td>\n",
       "      <td>62477976</td>\n",
       "      <td>28907862_62475646</td>\n",
       "      <td>28907862_62477976</td>\n",
       "      <td>28907862_NO</td>\n",
       "      <td>[-0.33135733, -0.19410284, 0.3181004, -0.01235...</td>\n",
       "      <td>[-0.30688453, -0.11905848, 0.31800467, -0.0359...</td>\n",
       "      <td>None</td>\n",
       "      <td>None</td>\n",
       "    </tr>\n",
       "  </tbody>\n",
       "</table>\n",
       "</div>"
      ],
      "text/plain": [
       "     ParticipantID ProblemA_id ProblemC_id ProblemB_id             A_name  \\\n",
       "507       28929904    62469085          NO    62477223  28929904_62469085   \n",
       "818       28930063    62465870           -    62476063  28930063_62465870   \n",
       "452       28913845    62465017    62477000    62470217  28913845_62465017   \n",
       "368       28895208    62467601          NO    62469511  28895208_62467601   \n",
       "242       28907862    62475646          NO    62477976  28907862_62475646   \n",
       "\n",
       "                B_name             C_name  \\\n",
       "507  28929904_62477223        28929904_NO   \n",
       "818  28930063_62476063         28930063_-   \n",
       "452  28913845_62470217  28913845_62477000   \n",
       "368  28895208_62469511        28895208_NO   \n",
       "242  28907862_62477976        28907862_NO   \n",
       "\n",
       "                                                 A_vec  \\\n",
       "507  [-0.08125514, -0.37661126, 0.029546322, 0.1859...   \n",
       "818  [-0.08194714, -0.24887857, 0.57016236, 0.02721...   \n",
       "452  [-0.1267573, -0.38610095, 0.073323935, 0.16539...   \n",
       "368  [0.021988025, -0.24203631, 0.076747015, 0.0115...   \n",
       "242  [-0.33135733, -0.19410284, 0.3181004, -0.01235...   \n",
       "\n",
       "                                                 B_vec  \\\n",
       "507  [0.1261962, -0.28840122, -0.013485637, 0.15798...   \n",
       "818  [0.11434873, -0.3891947, 0.6832665, -0.2191865...   \n",
       "452  [-0.09175491, -0.20303325, 0.08635165, 0.26552...   \n",
       "368  [0.053717237, -0.0008431146, 0.053021137, 0.05...   \n",
       "242  [-0.30688453, -0.11905848, 0.31800467, -0.0359...   \n",
       "\n",
       "                                                 C_vec D_vec  \n",
       "507                                               None  None  \n",
       "818                                               None  None  \n",
       "452  [-0.22277893, -0.3875344, 0.23395582, 0.207285...  None  \n",
       "368                                               None  None  \n",
       "242                                               None  None  "
      ]
     },
     "execution_count": 133,
     "metadata": {},
     "output_type": "execute_result"
    }
   ],
   "source": [
    "play=translation_summary.sample(n=100, replace=False, random_state=1)\n",
    "play.head()"
   ]
  },
  {
   "cell_type": "code",
   "execution_count": 176,
   "metadata": {},
   "outputs": [],
   "source": [
    "def get_translated_vectors(df,vec,col_a,col_b,n_samples):\n",
    "    translated_vecs=[]\n",
    "    sample_vecs=df.dropna(subset=[col_a,col_b]).sample(n=n_samples, replace=False)\n",
    "    for ix,row in sample_vecs.iterrows():\n",
    "        Y_a=row[col_a]\n",
    "        Y_b=row[col_b]\n",
    "        translated_vecs.append(vec-Y_a+Y_b)\n",
    "    return translated_vecs"
   ]
  },
  {
   "cell_type": "code",
   "execution_count": 186,
   "metadata": {},
   "outputs": [],
   "source": [
    "def obtain_translated_set(row,col_a,col_b,translation_summary,n_samples=100):\n",
    "    if row[col_a] is None:\n",
    "        return [None] * n_samples\n",
    "    return get_translated_vectors(translation_summary,row[col_a],col_a,col_b,n_samples)"
   ]
  },
  {
   "cell_type": "code",
   "execution_count": 192,
   "metadata": {},
   "outputs": [
    {
     "name": "stderr",
     "output_type": "stream",
     "text": [
      "/Users/Shikhar/Desktop/Studies/DataAnalytics/Assignment1/python_env/lib/python3.6/site-packages/ipykernel_launcher.py:2: SettingWithCopyWarning: \n",
      "A value is trying to be set on a copy of a slice from a DataFrame.\n",
      "Try using .loc[row_indexer,col_indexer] = value instead\n",
      "\n",
      "See the caveats in the documentation: http://pandas.pydata.org/pandas-docs/stable/user_guide/indexing.html#returning-a-view-versus-a-copy\n",
      "  \n"
     ]
    }
   ],
   "source": [
    "translated_col=translation_summary.apply (lambda row: obtain_translated_set(row,'A_vec','C_vec',translation_summary), axis=1)\n",
    "translation_summary['translated_set']=translated_col"
   ]
  },
  {
   "cell_type": "code",
   "execution_count": 193,
   "metadata": {},
   "outputs": [
    {
     "data": {
      "text/html": [
       "<div>\n",
       "<style scoped>\n",
       "    .dataframe tbody tr th:only-of-type {\n",
       "        vertical-align: middle;\n",
       "    }\n",
       "\n",
       "    .dataframe tbody tr th {\n",
       "        vertical-align: top;\n",
       "    }\n",
       "\n",
       "    .dataframe thead th {\n",
       "        text-align: right;\n",
       "    }\n",
       "</style>\n",
       "<table border=\"1\" class=\"dataframe\">\n",
       "  <thead>\n",
       "    <tr style=\"text-align: right;\">\n",
       "      <th></th>\n",
       "      <th>ParticipantID</th>\n",
       "      <th>ProblemA_id</th>\n",
       "      <th>ProblemC_id</th>\n",
       "      <th>ProblemB_id</th>\n",
       "      <th>A_name</th>\n",
       "      <th>B_name</th>\n",
       "      <th>C_name</th>\n",
       "      <th>A_vec</th>\n",
       "      <th>B_vec</th>\n",
       "      <th>C_vec</th>\n",
       "      <th>D_vec</th>\n",
       "      <th>translated_set</th>\n",
       "    </tr>\n",
       "  </thead>\n",
       "  <tbody>\n",
       "    <tr>\n",
       "      <th>0</th>\n",
       "      <td>28934535</td>\n",
       "      <td>62466123</td>\n",
       "      <td>62471680</td>\n",
       "      <td>62467959</td>\n",
       "      <td>28934535_62466123</td>\n",
       "      <td>28934535_62467959</td>\n",
       "      <td>28934535_62471680</td>\n",
       "      <td>[-0.044202138, -0.4283478, 0.117565386, 0.1355...</td>\n",
       "      <td>[-0.17143491, -0.18878877, -0.01847813, 0.1372...</td>\n",
       "      <td>[-0.43411395, -0.25371718, 0.46505305, 0.21757...</td>\n",
       "      <td>None</td>\n",
       "      <td>[[0.24295063, -0.627554, -0.043181967, 0.11134...</td>\n",
       "    </tr>\n",
       "    <tr>\n",
       "      <th>1</th>\n",
       "      <td>28925463</td>\n",
       "      <td>62464793</td>\n",
       "      <td>62473970</td>\n",
       "      <td>62468158</td>\n",
       "      <td>28925463_62464793</td>\n",
       "      <td>28925463_62468158</td>\n",
       "      <td>28925463_62473970</td>\n",
       "      <td>[-0.33881015, -0.36599618, -0.0663212, 0.26939...</td>\n",
       "      <td>[-0.100761235, -0.3316756, 0.0237973, 0.101701...</td>\n",
       "      <td>[-0.070138805, -0.018509908, 0.12724714, 0.192...</td>\n",
       "      <td>None</td>\n",
       "      <td>[[-0.3083062, -0.3094286, -0.07265282, 0.02643...</td>\n",
       "    </tr>\n",
       "    <tr>\n",
       "      <th>2</th>\n",
       "      <td>28926600</td>\n",
       "      <td>62464086</td>\n",
       "      <td>62478090</td>\n",
       "      <td>62464148</td>\n",
       "      <td>28926600_62464086</td>\n",
       "      <td>28926600_62464148</td>\n",
       "      <td>28926600_62478090</td>\n",
       "      <td>[-0.14476949, -0.120933644, -0.06732082, 0.100...</td>\n",
       "      <td>[0.16804552, -0.5084876, -0.109157905, 0.19862...</td>\n",
       "      <td>None</td>\n",
       "      <td>None</td>\n",
       "      <td>[[0.06597629, -0.17863098, -0.07849556, 0.0400...</td>\n",
       "    </tr>\n",
       "    <tr>\n",
       "      <th>3</th>\n",
       "      <td>28933479</td>\n",
       "      <td>62466602</td>\n",
       "      <td>62477877</td>\n",
       "      <td>62469867</td>\n",
       "      <td>28933479_62466602</td>\n",
       "      <td>28933479_62469867</td>\n",
       "      <td>28933479_62477877</td>\n",
       "      <td>[-0.25717404, -0.22128768, 0.50915545, 0.39523...</td>\n",
       "      <td>[-0.16896072, -0.053353813, 0.51749986, 0.3093...</td>\n",
       "      <td>[-0.12867935, 0.1834438, 0.4528377, 0.13189082...</td>\n",
       "      <td>None</td>\n",
       "      <td>[[-0.81643194, -0.2613505, 1.0438676, 0.236594...</td>\n",
       "    </tr>\n",
       "    <tr>\n",
       "      <th>4</th>\n",
       "      <td>28935245</td>\n",
       "      <td>62465923</td>\n",
       "      <td>62474334</td>\n",
       "      <td>62471265</td>\n",
       "      <td>28935245_62465923</td>\n",
       "      <td>28935245_62471265</td>\n",
       "      <td>28935245_62474334</td>\n",
       "      <td>[-0.18804535, -0.44178656, 0.42179662, 0.28983...</td>\n",
       "      <td>[-0.1489841, -0.19800639, 0.34635773, 0.223225...</td>\n",
       "      <td>[-0.20255451, -0.42666727, 0.44303602, 0.26884...</td>\n",
       "      <td>None</td>\n",
       "      <td>[[-0.023712628, -0.5649766, 0.5417453, 0.20653...</td>\n",
       "    </tr>\n",
       "  </tbody>\n",
       "</table>\n",
       "</div>"
      ],
      "text/plain": [
       "   ParticipantID ProblemA_id ProblemC_id ProblemB_id             A_name  \\\n",
       "0       28934535    62466123    62471680    62467959  28934535_62466123   \n",
       "1       28925463    62464793    62473970    62468158  28925463_62464793   \n",
       "2       28926600    62464086    62478090    62464148  28926600_62464086   \n",
       "3       28933479    62466602    62477877    62469867  28933479_62466602   \n",
       "4       28935245    62465923    62474334    62471265  28935245_62465923   \n",
       "\n",
       "              B_name             C_name  \\\n",
       "0  28934535_62467959  28934535_62471680   \n",
       "1  28925463_62468158  28925463_62473970   \n",
       "2  28926600_62464148  28926600_62478090   \n",
       "3  28933479_62469867  28933479_62477877   \n",
       "4  28935245_62471265  28935245_62474334   \n",
       "\n",
       "                                               A_vec  \\\n",
       "0  [-0.044202138, -0.4283478, 0.117565386, 0.1355...   \n",
       "1  [-0.33881015, -0.36599618, -0.0663212, 0.26939...   \n",
       "2  [-0.14476949, -0.120933644, -0.06732082, 0.100...   \n",
       "3  [-0.25717404, -0.22128768, 0.50915545, 0.39523...   \n",
       "4  [-0.18804535, -0.44178656, 0.42179662, 0.28983...   \n",
       "\n",
       "                                               B_vec  \\\n",
       "0  [-0.17143491, -0.18878877, -0.01847813, 0.1372...   \n",
       "1  [-0.100761235, -0.3316756, 0.0237973, 0.101701...   \n",
       "2  [0.16804552, -0.5084876, -0.109157905, 0.19862...   \n",
       "3  [-0.16896072, -0.053353813, 0.51749986, 0.3093...   \n",
       "4  [-0.1489841, -0.19800639, 0.34635773, 0.223225...   \n",
       "\n",
       "                                               C_vec D_vec  \\\n",
       "0  [-0.43411395, -0.25371718, 0.46505305, 0.21757...  None   \n",
       "1  [-0.070138805, -0.018509908, 0.12724714, 0.192...  None   \n",
       "2                                               None  None   \n",
       "3  [-0.12867935, 0.1834438, 0.4528377, 0.13189082...  None   \n",
       "4  [-0.20255451, -0.42666727, 0.44303602, 0.26884...  None   \n",
       "\n",
       "                                      translated_set  \n",
       "0  [[0.24295063, -0.627554, -0.043181967, 0.11134...  \n",
       "1  [[-0.3083062, -0.3094286, -0.07265282, 0.02643...  \n",
       "2  [[0.06597629, -0.17863098, -0.07849556, 0.0400...  \n",
       "3  [[-0.81643194, -0.2613505, 1.0438676, 0.236594...  \n",
       "4  [[-0.023712628, -0.5649766, 0.5417453, 0.20653...  "
      ]
     },
     "execution_count": 193,
     "metadata": {},
     "output_type": "execute_result"
    }
   ],
   "source": []
  },
  {
   "cell_type": "code",
   "execution_count": 252,
   "metadata": {},
   "outputs": [],
   "source": [
    "from scipy import spatial\n",
    "import random\n",
    "def compute_similarity(x,y):\n",
    "    if x is None or y is None:\n",
    "        return 0\n",
    "    return 1 - spatial.distance.cosine(x,y)\n",
    "\n",
    "def compute_similarity_rank(row,col_b,n_samples=20):\n",
    "    ranks=[]\n",
    "    translated_set=row['translated_set']\n",
    "    for translated_vec in random.sample(translated_set,n_samples):\n",
    "        comparison_sim=compute_similarity(translated_vec,row[col_b])\n",
    "        rank=1\n",
    "        for random_vec in translation_summary[col_b]:\n",
    "            sim=compute_similarity(random_vec,translated_vec)\n",
    "            if sim>comparison_sim:\n",
    "                rank+=1\n",
    "        ranks.append(rank)\n",
    "    rank_sum=0\n",
    "    for rank in ranks:\n",
    "        rank_sum+=rank\n",
    "    return (rank_sum/len(ranks))"
   ]
  },
  {
   "cell_type": "code",
   "execution_count": 253,
   "metadata": {},
   "outputs": [],
   "source": [
    "av_sim_rank=translation_summary.sample(n=70).apply (lambda row: compute_similarity_rank(row,'C_vec'), axis=1)"
   ]
  },
  {
   "cell_type": "code",
   "execution_count": 254,
   "metadata": {},
   "outputs": [
    {
     "data": {
      "text/plain": [
       "<matplotlib.axes._subplots.AxesSubplot at 0x11c48b4a8>"
      ]
     },
     "execution_count": 254,
     "metadata": {},
     "output_type": "execute_result"
    },
    {
     "data": {
      "image/png": "[encoded data removed]",
      "text/plain": [
       "<Figure size 432x288 with 1 Axes>"
      ]
     },
     "metadata": {
      "needs_background": "light"
     },
     "output_type": "display_data"
    }
   ],
   "source": [
    "av_sim_rank.hist(bins=10)"
   ]
  },
  {
   "cell_type": "code",
   "execution_count": null,
   "metadata": {},
   "outputs": [],
   "source": [
    "--------------------------------"
   ]
  },
  {
   "cell_type": "code",
   "execution_count": 99,
   "metadata": {},
   "outputs": [],
   "source": [
    "translation_summary['A_vec']=A_vecs\n",
    "translation_summary['B_vec']=B_vecs"
   ]
  },
  {
   "cell_type": "code",
   "execution_count": 100,
   "metadata": {},
   "outputs": [],
   "source": [
    "translation_summary=translation_summary[['A_name','B_name','A_vec','B_vec']]"
   ]
  },
  {
   "cell_type": "code",
   "execution_count": 101,
   "metadata": {},
   "outputs": [
    {
     "data": {
      "text/html": [
       "<div>\n",
       "<style scoped>\n",
       "    .dataframe tbody tr th:only-of-type {\n",
       "        vertical-align: middle;\n",
       "    }\n",
       "\n",
       "    .dataframe tbody tr th {\n",
       "        vertical-align: top;\n",
       "    }\n",
       "\n",
       "    .dataframe thead th {\n",
       "        text-align: right;\n",
       "    }\n",
       "</style>\n",
       "<table border=\"1\" class=\"dataframe\">\n",
       "  <thead>\n",
       "    <tr style=\"text-align: right;\">\n",
       "      <th></th>\n",
       "      <th>A_name</th>\n",
       "      <th>B_name</th>\n",
       "      <th>A_vec</th>\n",
       "      <th>B_vec</th>\n",
       "    </tr>\n",
       "  </thead>\n",
       "  <tbody>\n",
       "    <tr>\n",
       "      <th>0</th>\n",
       "      <td>28935009_62465009</td>\n",
       "      <td>28935009_62473099</td>\n",
       "      <td>NaN</td>\n",
       "      <td>NaN</td>\n",
       "    </tr>\n",
       "    <tr>\n",
       "      <th>1</th>\n",
       "      <td>28893286_62463719</td>\n",
       "      <td>28893286_62466315</td>\n",
       "      <td>NaN</td>\n",
       "      <td>NaN</td>\n",
       "    </tr>\n",
       "    <tr>\n",
       "      <th>2</th>\n",
       "      <td>28897193_62464139</td>\n",
       "      <td>28897193_62470474</td>\n",
       "      <td>NaN</td>\n",
       "      <td>NaN</td>\n",
       "    </tr>\n",
       "    <tr>\n",
       "      <th>3</th>\n",
       "      <td>28935782_62464261</td>\n",
       "      <td>28935782_62470357</td>\n",
       "      <td>[-0.19579342, 0.18394515, 0.033915326, 0.15637...</td>\n",
       "      <td>[-0.118528634, 0.0052260575, 0.06984823, 0.121...</td>\n",
       "    </tr>\n",
       "    <tr>\n",
       "      <th>4</th>\n",
       "      <td>28929121_62467007</td>\n",
       "      <td>28929121_62470711</td>\n",
       "      <td>NaN</td>\n",
       "      <td>NaN</td>\n",
       "    </tr>\n",
       "  </tbody>\n",
       "</table>\n",
       "</div>"
      ],
      "text/plain": [
       "              A_name             B_name  \\\n",
       "0  28935009_62465009  28935009_62473099   \n",
       "1  28893286_62463719  28893286_62466315   \n",
       "2  28897193_62464139  28897193_62470474   \n",
       "3  28935782_62464261  28935782_62470357   \n",
       "4  28929121_62467007  28929121_62470711   \n",
       "\n",
       "                                               A_vec  \\\n",
       "0                                                NaN   \n",
       "1                                                NaN   \n",
       "2                                                NaN   \n",
       "3  [-0.19579342, 0.18394515, 0.033915326, 0.15637...   \n",
       "4                                                NaN   \n",
       "\n",
       "                                               B_vec  \n",
       "0                                                NaN  \n",
       "1                                                NaN  \n",
       "2                                                NaN  \n",
       "3  [-0.118528634, 0.0052260575, 0.06984823, 0.121...  \n",
       "4                                                NaN  "
      ]
     },
     "execution_count": 101,
     "metadata": {},
     "output_type": "execute_result"
    }
   ],
   "source": [
    "translation_summary.head()"
   ]
  },
  {
   "cell_type": "code",
   "execution_count": 95,
   "metadata": {},
   "outputs": [],
   "source": [
    "from scipy import spatial\n",
    "import random\n",
    "import math\n",
    "def compute_similarity(x,y):\n",
    "    if x is None or y is None:\n",
    "        return 0\n",
    "    return 1 - spatial.distance.cosine(x,y)\n",
    "\n",
    "def convert_to_float_np(x):\n",
    "    ans=[]\n",
    "    try:\n",
    "        for z in x[1:-1].split():\n",
    "            ans.append(float(z))\n",
    "        return np.array(ans)\n",
    "    except:\n",
    "        return np.array(x)\n",
    "    "
   ]
  },
  {
   "cell_type": "code",
   "execution_count": 106,
   "metadata": {},
   "outputs": [],
   "source": [
    "translation_summary=pd.read_csv('translation_vec.csv').dropna().sample(n=100)\n",
    "a=translation_summary['A_vec'].apply(lambda s: convert_to_float_np(s))\n",
    "b=translation_summary['B_vec'].apply(lambda s: convert_to_float_np(s))\n",
    "translation_summary['A_vec']=a\n",
    "translation_summary['B_vec']=b\n",
    "AV_RANKS_1=[]\n",
    "AV_RANKS_2=[]\n",
    "for idx,row in translation_summary.iterrows():\n",
    "    x_a=row['A_vec']\n",
    "    x_b=row['B_vec']\n",
    "    if x_a is None or x_b is None:\n",
    "        continue\n",
    "    av_rank_1=0\n",
    "    av_rank_2=0\n",
    "    cnt=0\n",
    "    for ix,row2 in translation_summary.iterrows():\n",
    "        if ix==idx:\n",
    "            continue\n",
    "        y_a=row2['A_vec']\n",
    "        y_b=row2['B_vec']\n",
    "        if y_a is None or y_b is None:\n",
    "            continue\n",
    "        z_1=x_a-y_a+y_b #should be closest to x_b\n",
    "        z_2=x_a-x_b+y_b #should be closest to y_a\n",
    "        SIM_1=compute_similarity(z_1,x_b)\n",
    "        SIM_2=compute_similarity(z_2,y_a)\n",
    "        rank_1=0\n",
    "        rank_2=0\n",
    "        for i,row3 in translation_summary.iterrows():\n",
    "            check_a=row3['A_vec']\n",
    "            check_b=row3['B_vec']\n",
    "            sim_1=compute_similarity(z_1,check_b)\n",
    "            sim_2=compute_similarity(z_2,check_a)\n",
    "            if sim_1>SIM_1:\n",
    "                rank_1+=1\n",
    "            if sim_2>SIM_2:\n",
    "                rank_2+=1\n",
    "        cnt+=1\n",
    "        av_rank_1+=rank_1\n",
    "        av_rank_2+=rank_2\n",
    "    AV_RANKS_1.append(av_rank_1/cnt)\n",
    "    AV_RANKS_2.append(av_rank_2/cnt)"
   ]
  },
  {
   "cell_type": "code",
   "execution_count": 107,
   "metadata": {},
   "outputs": [
    {
     "data": {
      "text/plain": [
       "<matplotlib.axes._subplots.AxesSubplot at 0x11d27cb38>"
      ]
     },
     "execution_count": 107,
     "metadata": {},
     "output_type": "execute_result"
    },
    {
     "data": {
      "image/png": "[encoded data removed]",
      "text/plain": [
       "<Figure size 432x288 with 1 Axes>"
      ]
     },
     "metadata": {
      "needs_background": "light"
     },
     "output_type": "display_data"
    }
   ],
   "source": [
    "pd.Series(AV_RANKS_1).plot.hist()"
   ]
  },
  {
   "cell_type": "code",
   "execution_count": 108,
   "metadata": {},
   "outputs": [
    {
     "data": {
      "text/plain": [
       "<matplotlib.axes._subplots.AxesSubplot at 0x119dfa668>"
      ]
     },
     "execution_count": 108,
     "metadata": {},
     "output_type": "execute_result"
    },
    {
     "data": {
      "image/png": "[encoded data removed]",
      "text/plain": [
       "<Figure size 432x288 with 1 Axes>"
      ]
     },
     "metadata": {
      "needs_background": "light"
     },
     "output_type": "display_data"
    }
   ],
   "source": [
    "pd.Series(AV_RANKS_2).plot.hist()"
   ]
  },
  {
   "cell_type": "code",
   "execution_count": 82,
   "metadata": {},
   "outputs": [
    {
     "data": {
      "text/plain": [
       "<matplotlib.axes._subplots.AxesSubplot at 0x119bb6d68>"
      ]
     },
     "execution_count": 82,
     "metadata": {},
     "output_type": "execute_result"
    },
    {
     "data": {
      "image/png": "[encoded data removed]",
      "text/plain": [
       "<Figure size 432x288 with 1 Axes>"
      ]
     },
     "metadata": {
      "needs_background": "light"
     },
     "output_type": "display_data"
    }
   ],
   "source": [
    "a=pd.Series(AV_RANKS_1)\n",
    "a.plot.hist()"
   ]
  },
  {
   "cell_type": "code",
   "execution_count": null,
   "metadata": {},
   "outputs": [],
   "source": []
  }
 ],
 "metadata": {
  "kernelspec": {
   "display_name": "Python 3",
   "language": "python",
   "name": "python3"
  },
  "language_info": {
   "codemirror_mode": {
    "name": "ipython",
    "version": 3
   },
   "file_extension": ".py",
   "mimetype": "text/x-python",
   "name": "python",
   "nbconvert_exporter": "python",
   "pygments_lexer": "ipython3",
   "version": "3.6.5"
  }
 },
 "nbformat": 4,
 "nbformat_minor": 2
}
